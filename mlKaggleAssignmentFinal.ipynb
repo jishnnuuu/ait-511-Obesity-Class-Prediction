{
 "nbformat": 4,
 "nbformat_minor": 0,
 "metadata": {
  "colab": {
   "provenance": []
  },
  "kernelspec": {
   "name": "python3",
   "display_name": "Python 3"
  },
  "language_info": {
   "name": "python"
  },
  "widgets": {
   "application/vnd.jupyter.widget-state+json": {
    "54fe8b5afe1847cbb5a00d600fc42833": {
     "model_module": "@jupyter-widgets/controls",
     "model_name": "HBoxModel",
     "model_module_version": "1.5.0",
     "state": {
      "_dom_classes": [],
      "_model_module": "@jupyter-widgets/controls",
      "_model_module_version": "1.5.0",
      "_model_name": "HBoxModel",
      "_view_count": null,
      "_view_module": "@jupyter-widgets/controls",
      "_view_module_version": "1.5.0",
      "_view_name": "HBoxView",
      "box_style": "",
      "children": [
       "IPY_MODEL_1bf8bb65516d4b69a2defccfd63d059b",
       "IPY_MODEL_943014792c894fae88fe61ef5e981257",
       "IPY_MODEL_647b820dd61f43aa96d61c52bba418e3"
      ],
      "layout": "IPY_MODEL_6ebb79ff6b4c4aeb9c99fe4471dd9203"
     }
    },
    "1bf8bb65516d4b69a2defccfd63d059b": {
     "model_module": "@jupyter-widgets/controls",
     "model_name": "HTMLModel",
     "model_module_version": "1.5.0",
     "state": {
      "_dom_classes": [],
      "_model_module": "@jupyter-widgets/controls",
      "_model_module_version": "1.5.0",
      "_model_name": "HTMLModel",
      "_view_count": null,
      "_view_module": "@jupyter-widgets/controls",
      "_view_module_version": "1.5.0",
      "_view_name": "HTMLView",
      "description": "",
      "description_tooltip": null,
      "layout": "IPY_MODEL_6fd5f801c6a5417a80eb9014d585f01a",
      "placeholder": "​",
      "style": "IPY_MODEL_cfa5172da7a04a8088e66af710f6c25b",
      "value": "Best trial: 8. Best value: 0.904269: 100%"
     }
    },
    "943014792c894fae88fe61ef5e981257": {
     "model_module": "@jupyter-widgets/controls",
     "model_name": "FloatProgressModel",
     "model_module_version": "1.5.0",
     "state": {
      "_dom_classes": [],
      "_model_module": "@jupyter-widgets/controls",
      "_model_module_version": "1.5.0",
      "_model_name": "FloatProgressModel",
      "_view_count": null,
      "_view_module": "@jupyter-widgets/controls",
      "_view_module_version": "1.5.0",
      "_view_name": "ProgressView",
      "bar_style": "success",
      "description": "",
      "description_tooltip": null,
      "layout": "IPY_MODEL_abfcdb978c924405a7caeeedee6922cc",
      "max": 15,
      "min": 0,
      "orientation": "horizontal",
      "style": "IPY_MODEL_d75c97986c7048ee93d74beed2d3123d",
      "value": 15
     }
    },
    "647b820dd61f43aa96d61c52bba418e3": {
     "model_module": "@jupyter-widgets/controls",
     "model_name": "HTMLModel",
     "model_module_version": "1.5.0",
     "state": {
      "_dom_classes": [],
      "_model_module": "@jupyter-widgets/controls",
      "_model_module_version": "1.5.0",
      "_model_name": "HTMLModel",
      "_view_count": null,
      "_view_module": "@jupyter-widgets/controls",
      "_view_module_version": "1.5.0",
      "_view_name": "HTMLView",
      "description": "",
      "description_tooltip": null,
      "layout": "IPY_MODEL_f4eef28ca2bd45ddbc78c88249a8bacf",
      "placeholder": "​",
      "style": "IPY_MODEL_750f94f2d17a4ad19aa534c8b2bbd717",
      "value": " 15/15 [06:42&lt;00:00, 33.03s/it]"
     }
    },
    "6ebb79ff6b4c4aeb9c99fe4471dd9203": {
     "model_module": "@jupyter-widgets/base",
     "model_name": "LayoutModel",
     "model_module_version": "1.2.0",
     "state": {
      "_model_module": "@jupyter-widgets/base",
      "_model_module_version": "1.2.0",
      "_model_name": "LayoutModel",
      "_view_count": null,
      "_view_module": "@jupyter-widgets/base",
      "_view_module_version": "1.2.0",
      "_view_name": "LayoutView",
      "align_content": null,
      "align_items": null,
      "align_self": null,
      "border": null,
      "bottom": null,
      "display": null,
      "flex": null,
      "flex_flow": null,
      "grid_area": null,
      "grid_auto_columns": null,
      "grid_auto_flow": null,
      "grid_auto_rows": null,
      "grid_column": null,
      "grid_gap": null,
      "grid_row": null,
      "grid_template_areas": null,
      "grid_template_columns": null,
      "grid_template_rows": null,
      "height": null,
      "justify_content": null,
      "justify_items": null,
      "left": null,
      "margin": null,
      "max_height": null,
      "max_width": null,
      "min_height": null,
      "min_width": null,
      "object_fit": null,
      "object_position": null,
      "order": null,
      "overflow": null,
      "overflow_x": null,
      "overflow_y": null,
      "padding": null,
      "right": null,
      "top": null,
      "visibility": null,
      "width": null
     }
    },
    "6fd5f801c6a5417a80eb9014d585f01a": {
     "model_module": "@jupyter-widgets/base",
     "model_name": "LayoutModel",
     "model_module_version": "1.2.0",
     "state": {
      "_model_module": "@jupyter-widgets/base",
      "_model_module_version": "1.2.0",
      "_model_name": "LayoutModel",
      "_view_count": null,
      "_view_module": "@jupyter-widgets/base",
      "_view_module_version": "1.2.0",
      "_view_name": "LayoutView",
      "align_content": null,
      "align_items": null,
      "align_self": null,
      "border": null,
      "bottom": null,
      "display": null,
      "flex": null,
      "flex_flow": null,
      "grid_area": null,
      "grid_auto_columns": null,
      "grid_auto_flow": null,
      "grid_auto_rows": null,
      "grid_column": null,
      "grid_gap": null,
      "grid_row": null,
      "grid_template_areas": null,
      "grid_template_columns": null,
      "grid_template_rows": null,
      "height": null,
      "justify_content": null,
      "justify_items": null,
      "left": null,
      "margin": null,
      "max_height": null,
      "max_width": null,
      "min_height": null,
      "min_width": null,
      "object_fit": null,
      "object_position": null,
      "order": null,
      "overflow": null,
      "overflow_x": null,
      "overflow_y": null,
      "padding": null,
      "right": null,
      "top": null,
      "visibility": null,
      "width": null
     }
    },
    "cfa5172da7a04a8088e66af710f6c25b": {
     "model_module": "@jupyter-widgets/controls",
     "model_name": "DescriptionStyleModel",
     "model_module_version": "1.5.0",
     "state": {
      "_model_module": "@jupyter-widgets/controls",
      "_model_module_version": "1.5.0",
      "_model_name": "DescriptionStyleModel",
      "_view_count": null,
      "_view_module": "@jupyter-widgets/base",
      "_view_module_version": "1.2.0",
      "_view_name": "StyleView",
      "description_width": ""
     }
    },
    "abfcdb978c924405a7caeeedee6922cc": {
     "model_module": "@jupyter-widgets/base",
     "model_name": "LayoutModel",
     "model_module_version": "1.2.0",
     "state": {
      "_model_module": "@jupyter-widgets/base",
      "_model_module_version": "1.2.0",
      "_model_name": "LayoutModel",
      "_view_count": null,
      "_view_module": "@jupyter-widgets/base",
      "_view_module_version": "1.2.0",
      "_view_name": "LayoutView",
      "align_content": null,
      "align_items": null,
      "align_self": null,
      "border": null,
      "bottom": null,
      "display": null,
      "flex": null,
      "flex_flow": null,
      "grid_area": null,
      "grid_auto_columns": null,
      "grid_auto_flow": null,
      "grid_auto_rows": null,
      "grid_column": null,
      "grid_gap": null,
      "grid_row": null,
      "grid_template_areas": null,
      "grid_template_columns": null,
      "grid_template_rows": null,
      "height": null,
      "justify_content": null,
      "justify_items": null,
      "left": null,
      "margin": null,
      "max_height": null,
      "max_width": null,
      "min_height": null,
      "min_width": null,
      "object_fit": null,
      "object_position": null,
      "order": null,
      "overflow": null,
      "overflow_x": null,
      "overflow_y": null,
      "padding": null,
      "right": null,
      "top": null,
      "visibility": null,
      "width": null
     }
    },
    "d75c97986c7048ee93d74beed2d3123d": {
     "model_module": "@jupyter-widgets/controls",
     "model_name": "ProgressStyleModel",
     "model_module_version": "1.5.0",
     "state": {
      "_model_module": "@jupyter-widgets/controls",
      "_model_module_version": "1.5.0",
      "_model_name": "ProgressStyleModel",
      "_view_count": null,
      "_view_module": "@jupyter-widgets/base",
      "_view_module_version": "1.2.0",
      "_view_name": "StyleView",
      "bar_color": null,
      "description_width": ""
     }
    },
    "f4eef28ca2bd45ddbc78c88249a8bacf": {
     "model_module": "@jupyter-widgets/base",
     "model_name": "LayoutModel",
     "model_module_version": "1.2.0",
     "state": {
      "_model_module": "@jupyter-widgets/base",
      "_model_module_version": "1.2.0",
      "_model_name": "LayoutModel",
      "_view_count": null,
      "_view_module": "@jupyter-widgets/base",
      "_view_module_version": "1.2.0",
      "_view_name": "LayoutView",
      "align_content": null,
      "align_items": null,
      "align_self": null,
      "border": null,
      "bottom": null,
      "display": null,
      "flex": null,
      "flex_flow": null,
      "grid_area": null,
      "grid_auto_columns": null,
      "grid_auto_flow": null,
      "grid_auto_rows": null,
      "grid_column": null,
      "grid_gap": null,
      "grid_row": null,
      "grid_template_areas": null,
      "grid_template_columns": null,
      "grid_template_rows": null,
      "height": null,
      "justify_content": null,
      "justify_items": null,
      "left": null,
      "margin": null,
      "max_height": null,
      "max_width": null,
      "min_height": null,
      "min_width": null,
      "object_fit": null,
      "object_position": null,
      "order": null,
      "overflow": null,
      "overflow_x": null,
      "overflow_y": null,
      "padding": null,
      "right": null,
      "top": null,
      "visibility": null,
      "width": null
     }
    },
    "750f94f2d17a4ad19aa534c8b2bbd717": {
     "model_module": "@jupyter-widgets/controls",
     "model_name": "DescriptionStyleModel",
     "model_module_version": "1.5.0",
     "state": {
      "_model_module": "@jupyter-widgets/controls",
      "_model_module_version": "1.5.0",
      "_model_name": "DescriptionStyleModel",
      "_view_count": null,
      "_view_module": "@jupyter-widgets/base",
      "_view_module_version": "1.2.0",
      "_view_name": "StyleView",
      "description_width": ""
     }
    }
   }
  }
 },
 "cells": [
  {
   "cell_type": "code",
   "source": [
    "import warnings\n",
    "warnings.filterwarnings('ignore')\n",
    "\n",
    "import os\n",
    "import numpy as np\n",
    "import pandas as pd\n",
    "import matplotlib.pyplot as plt\n",
    "import seaborn as sns\n",
    "from scipy.stats import chi2_contingency\n",
    "\n",
    "from sklearn.model_selection import train_test_split, StratifiedKFold, cross_val_predict\n",
    "from sklearn.preprocessing import LabelEncoder, StandardScaler\n",
    "from sklearn.impute import SimpleImputer\n",
    "from sklearn.pipeline import Pipeline\n",
    "from sklearn.compose import ColumnTransformer\n",
    "from sklearn.neighbors import KNeighborsClassifier\n",
    "from sklearn.tree import DecisionTreeClassifier\n",
    "from sklearn.ensemble import RandomForestClassifier\n",
    "from sklearn.metrics import (confusion_matrix, classification_report, accuracy_score,\n",
    "                             ConfusionMatrixDisplay)\n",
    "import joblib\n",
    "import xgboost as xgb\n",
    "import optuna\n",
    "\n",
    "RNG = 42\n",
    "np.random.seed(RNG)\n",
    "sns.set(style='whitegrid')\n",
    "\n",
    "# Directories\n",
    "os.makedirs('outputs', exist_ok=True)\n",
    "os.makedirs('models', exist_ok=True)\n"
   ],
   "metadata": {
    "id": "0fL_klPE7YV-"
   },
   "outputs": [],
   "execution_count": null
  },
  {
   "cell_type": "code",
   "source": [
    "# %% [markdown]\n",
    "# ## 1) Load Data\n",
    "\n",
    "# %%\n",
    "train = pd.read_csv('train.csv')\n",
    "test = pd.read_csv('test.csv')\n",
    "\n",
    "print('Train shape:', train.shape)\n",
    "print('Test shape:', test.shape)\n"
   ],
   "metadata": {
    "colab": {
     "base_uri": "https://localhost:8080/"
    },
    "id": "_xSjemBx7YTo",
    "outputId": "80e4d9a9-091d-4b31-edff-58575b10c194"
   },
   "outputs": [],
   "execution_count": null
  },
  {
   "cell_type": "code",
   "source": [
    "# %% [markdown]\n",
    "# ## 2) Target Distribution\n",
    "\n",
    "# %%\n",
    "print('\\n-- Target counts & proportions --')\n",
    "print(train['WeightCategory'].value_counts())\n",
    "print(train['WeightCategory'].value_counts(normalize=True))\n",
    "\n",
    "plt.figure(figsize=(8,5))\n",
    "sns.countplot(data=train, x='WeightCategory', order=train['WeightCategory'].value_counts().index)\n",
    "plt.xticks(rotation=45)\n",
    "plt.title('WeightCategory distribution')\n",
    "plt.tight_layout()\n",
    "plt.savefig('outputs/eda_target_distribution.png')\n",
    "plt.show()\n"
   ],
   "metadata": {
    "colab": {
     "base_uri": "https://localhost:8080/",
     "height": 858
    },
    "id": "Oy-LC4H-7YRK",
    "outputId": "88d33961-c699-4963-cc41-8d33ffbc9905"
   },
   "outputs": [],
   "execution_count": null
  },
  {
   "cell_type": "code",
   "source": [
    "# %% [markdown]\n",
    "# ## 3) BMI Feature\n",
    "\n",
    "# %%\n",
    "if 'BMI' not in train.columns and {'Weight','Height'}.issubset(train.columns):\n",
    "    train['BMI'] = train['Weight'] / (train['Height']**2)\n",
    "    test['BMI'] = test['Weight'] / (test['Height']**2) if {'Weight','Height'}.issubset(test.columns) else np.nan\n",
    "\n",
    "print('\\n-- BMI summary --')\n",
    "print(train['BMI'].describe())\n"
   ],
   "metadata": {
    "colab": {
     "base_uri": "https://localhost:8080/"
    },
    "id": "QPAtJ1Yp7YOj",
    "outputId": "1def3d81-451a-45c3-fd00-aa2a34c0aeb8"
   },
   "outputs": [],
   "execution_count": null
  },
  {
   "cell_type": "code",
   "source": [
    "# %% [markdown]\n",
    "# ## 4) Numerical Feature Distributions\n",
    "\n",
    "# %%\n",
    "num_feats = ['Age','Height','Weight','BMI']\n",
    "for col in num_feats:\n",
    "    if col in train.columns:\n",
    "        plt.figure(figsize=(8,4))\n",
    "        sns.histplot(train[col].dropna(), kde=True)\n",
    "        plt.title(f'Distribution of {col}')\n",
    "        plt.tight_layout()\n",
    "        plt.savefig(f'outputs/eda_hist_{col}.png')\n",
    "        plt.show()\n"
   ],
   "metadata": {
    "colab": {
     "base_uri": "https://localhost:8080/",
     "height": 1000
    },
    "id": "-NwwkuW57YL1",
    "outputId": "619ab0b3-c3ac-48a6-a7dd-55ba8e8a4754"
   },
   "outputs": [],
   "execution_count": null
  },
  {
   "cell_type": "code",
   "source": [
    "# %% [markdown]\n",
    "# ## 5) Boxplots by WeightCategory\n",
    "\n",
    "# %%\n",
    "for col in ['Height','Weight','BMI','Age']:\n",
    "    if col in train.columns:\n",
    "        plt.figure(figsize=(10,5))\n",
    "        sns.boxplot(x='WeightCategory', y=col, data=train, order=train['WeightCategory'].value_counts().index)\n",
    "        plt.xticks(rotation=45)\n",
    "        plt.title(f'{col} by WeightCategory')\n",
    "        plt.tight_layout()\n",
    "        plt.savefig(f'outputs/eda_box_{col}.png')\n",
    "        plt.show()\n"
   ],
   "metadata": {
    "colab": {
     "base_uri": "https://localhost:8080/",
     "height": 1000
    },
    "id": "oeGGJlR07YJP",
    "outputId": "95517455-9368-4662-dfec-2204efdadae6"
   },
   "outputs": [],
   "execution_count": null
  },
  {
   "cell_type": "code",
   "source": [
    "# %% [markdown]\n",
    "# ## 6) Height vs Weight Scatter & Correlation\n",
    "\n",
    "# %%\n",
    "if set(['Height','Weight','WeightCategory']).issubset(train.columns):\n",
    "    plt.figure(figsize=(8,6))\n",
    "    sns.scatterplot(data=train, x='Height', y='Weight', hue='WeightCategory', alpha=0.7)\n",
    "    plt.title('Height vs Weight by WeightCategory')\n",
    "    plt.legend(bbox_to_anchor=(1.05, 1), loc='upper left')\n",
    "    plt.tight_layout()\n",
    "    plt.savefig('outputs/eda_scatter_height_weight.png')\n",
    "    plt.show()\n",
    "\n",
    "num_for_corr = train.select_dtypes(include=[np.number]).columns.tolist()\n",
    "if len(num_for_corr) > 1:\n",
    "    corr = train[num_for_corr].corr()\n",
    "    plt.figure(figsize=(10,8))\n",
    "    sns.heatmap(corr, annot=True, fmt='.2f', cmap='coolwarm', square=True)\n",
    "    plt.title('Correlation matrix (numeric features)')\n",
    "    plt.tight_layout()\n",
    "    plt.savefig('outputs/eda_corr_heatmap.png')\n",
    "    plt.show()\n"
   ],
   "metadata": {
    "colab": {
     "base_uri": "https://localhost:8080/",
     "height": 1000
    },
    "id": "g4bRtTDL7YGn",
    "outputId": "90d0bd56-9ade-46b1-d4d8-0a9a2fd9dfb7"
   },
   "outputs": [],
   "execution_count": null
  },
  {
   "cell_type": "code",
   "source": [
    "# %% [markdown]\n",
    "# ## 7) Gender & Lifestyle Analysis\n",
    "\n",
    "# %%\n",
    "if 'Gender' in train.columns:\n",
    "    plt.figure(figsize=(8,5))\n",
    "    sns.countplot(data=train, x='WeightCategory', hue='Gender', order=train['WeightCategory'].value_counts().index)\n",
    "    plt.xticks(rotation=45)\n",
    "    plt.title('WeightCategory by Gender')\n",
    "    plt.legend(title='Gender')\n",
    "    plt.tight_layout()\n",
    "    plt.savefig('outputs/eda_gender_category.png')\n",
    "    plt.show()\n",
    "\n",
    "lifestyle_cols = ['family_history_with_overweight','FAVC','FCVC','NCP','CAEC','SMOKE','CH2O','SCC','FAF','TUE','CALC','MTRANS']\n",
    "present_lifestyle = [c for c in lifestyle_cols if c in train.columns]\n",
    "binary_like = ['family_history_with_overweight','FAVC','SMOKE','SCC']\n",
    "\n",
    "for c in present_lifestyle:\n",
    "    if c in binary_like:\n",
    "        ct = pd.crosstab(train[c], train['WeightCategory'], normalize='index')\n",
    "        ct.plot(kind='bar', stacked=True, figsize=(8,5))\n",
    "        plt.title(f'Proportion of WeightCategory by {c}')\n",
    "        plt.ylabel('Proportion')\n",
    "        plt.tight_layout()\n",
    "        plt.savefig(f'outputs/eda_lifestyle_{c}.png')\n",
    "        plt.show()\n",
    "    elif train[c].dtype == object or train[c].dtype.name == 'category':\n",
    "        plt.figure(figsize=(10,5))\n",
    "        sns.countplot(data=train, x=c, hue='WeightCategory')\n",
    "        plt.xticks(rotation=45)\n",
    "        plt.title(f'{c} counts by WeightCategory')\n",
    "        plt.tight_layout()\n",
    "        plt.savefig(f'outputs/eda_lifestyle_{c}.png')\n",
    "        plt.show()\n",
    "    else:\n",
    "        plt.figure(figsize=(8,5))\n",
    "        sns.boxplot(x='WeightCategory', y=c, data=train)\n",
    "        plt.xticks(rotation=45)\n",
    "        plt.title(f'{c} by WeightCategory')\n",
    "        plt.tight_layout()\n",
    "        plt.savefig(f'outputs/eda_lifestyle_{c}.png')\n",
    "        plt.show()\n"
   ],
   "metadata": {
    "colab": {
     "base_uri": "https://localhost:8080/",
     "height": 1000
    },
    "id": "pl95R8947YD4",
    "outputId": "444beb9c-5d48-4b66-a97e-f525fc0a1eb1"
   },
   "outputs": [],
   "execution_count": null
  },
  {
   "cell_type": "code",
   "source": [
    "# %% [markdown]\n",
    "# ## 8) Chi-Square Tests\n",
    "\n",
    "# %%\n",
    "cat_features = [c for c in train.columns if train[c].dtype == 'object' and c != 'WeightCategory']\n",
    "chi2_results = []\n",
    "for c in cat_features:\n",
    "    try:\n",
    "        contingency = pd.crosstab(train[c], train['WeightCategory'])\n",
    "        chi2, p, dof, ex = chi2_contingency(contingency)\n",
    "        chi2_results.append({'feature': c, 'chi2': chi2, 'p_value': p})\n",
    "    except:\n",
    "        chi2_results.append({'feature': c, 'chi2': np.nan, 'p_value': np.nan})\n",
    "\n",
    "chi2_df = pd.DataFrame(chi2_results).sort_values('p_value')\n",
    "chi2_df.to_csv('outputs/eda_chi2_results.csv', index=False)\n"
   ],
   "metadata": {
    "id": "-1Q3RCQY7YBa"
   },
   "outputs": [],
   "execution_count": null
  },
  {
   "cell_type": "code",
   "source": [
    "# %% [markdown]\n",
    "# ## 9) Save EDA Insights\n",
    "\n",
    "# %%\n",
    "insights = []\n",
    "value_counts = train['WeightCategory'].value_counts(normalize=True)\n",
    "insights.append(f\"Target distribution (proportions): {value_counts.to_dict()}\")\n",
    "\n",
    "if 'BMI' in train.columns:\n",
    "    grp = train.groupby('WeightCategory')['BMI'].median().sort_values()\n",
    "    insights.append('Median BMI by class: ' + '; '.join([f\"{i}: {v:.2f}\" for i,v in grp.items()]))\n",
    "\n",
    "if 'Gender' in train.columns:\n",
    "    pct = pd.crosstab(train['Gender'], train['WeightCategory'], normalize='index')\n",
    "    insights.append('Gender vs WeightCategory proportions: ' + pct.to_string())\n",
    "\n",
    "with open('outputs/eda_insights.txt','w') as f:\n",
    "    f.write('\\n'.join(insights))\n",
    "\n",
    "print('EDA visuals and summary saved to outputs/ (png, csv, txt)')\n"
   ],
   "metadata": {
    "colab": {
     "base_uri": "https://localhost:8080/"
    },
    "id": "nY3fbKJx7X-z",
    "outputId": "b98bf8d6-1939-47fa-d68b-5a83c85dff23"
   },
   "outputs": [],
   "execution_count": null
  },
  {
   "cell_type": "code",
   "source": [
    "# ## 3) Preprocessing\n",
    "# We'll build a reproducible pipeline:\n",
    "# - SimpleImputer (median for numerics, most_frequent for categoricals)\n",
    "# - Encode categoricals as integer codes (consistent between train/test)\n",
    "# - Scale numeric features for KNN\n",
    "\n",
    "\n",
    "# %%\n",
    "TARGET = 'WeightCategory'\n",
    "ID_COL = 'id' if 'id' in train.columns else None\n",
    "\n",
    "\n",
    "# Separate X/y\n",
    "y = train[TARGET].copy()\n",
    "X = train.drop(columns=[TARGET])\n",
    "X_test = test.copy()"
   ],
   "metadata": {
    "id": "P8PPgNkNy3mL"
   },
   "outputs": [],
   "execution_count": null
  },
  {
   "cell_type": "code",
   "source": [
    "X.shape"
   ],
   "metadata": {
    "colab": {
     "base_uri": "https://localhost:8080/"
    },
    "id": "0cfGjG40BRdC",
    "outputId": "90114d08-9910-4843-ee02-645e162f6074"
   },
   "outputs": [],
   "execution_count": null
  },
  {
   "cell_type": "code",
   "source": [
    "# Identify column types\n",
    "num_cols = X.select_dtypes(include=[np.number]).columns.tolist()\n",
    "cat_cols = X.select_dtypes(include=['object', 'category', 'bool']).columns.tolist()\n",
    "if ID_COL and ID_COL in num_cols:\n",
    "  num_cols.remove(ID_COL)\n",
    "if ID_COL and ID_COL in cat_cols:\n",
    "  cat_cols.remove(ID_COL)\n",
    "\n",
    "\n",
    "print('Numeric cols:', len(num_cols))\n",
    "print('Categorical cols:', len(cat_cols))"
   ],
   "metadata": {
    "colab": {
     "base_uri": "https://localhost:8080/"
    },
    "id": "TzLOx11Wy8l4",
    "outputId": "9e47797e-c0d5-4d57-da08-8b9f459f3998"
   },
   "outputs": [],
   "execution_count": null
  },
  {
   "cell_type": "code",
   "source": [
    "# %%\n",
    "num_transformer = Pipeline([\n",
    "    ('imputer', SimpleImputer(strategy='median')),\n",
    "    ('scaler', StandardScaler())\n",
    "])\n",
    "\n",
    "cat_transformer = Pipeline([\n",
    "    ('imputer', SimpleImputer(strategy='most_frequent'))\n",
    "])\n",
    "\n",
    "preprocessor = ColumnTransformer([\n",
    "    ('num', num_transformer, num_cols),\n",
    "    ('cat', cat_transformer, cat_cols)\n",
    "], remainder='passthrough')\n",
    "\n",
    "preprocessor.fit(X)\n"
   ],
   "metadata": {
    "colab": {
     "base_uri": "https://localhost:8080/",
     "height": 190
    },
    "id": "tifjYPJ0y-0y",
    "outputId": "3519d76b-228e-4284-d3e3-4e9c4d792c0d"
   },
   "outputs": [],
   "execution_count": null
  },
  {
   "cell_type": "code",
   "source": [
    "# %%\n",
    "# Transform numeric and categorical separately for clearer handling\n",
    "X_num = preprocessor.named_transformers_['num'].transform(X[num_cols])\n",
    "X_test_num = preprocessor.named_transformers_['num'].transform(X_test[num_cols])\n",
    "\n",
    "cat_imputer = preprocessor.named_transformers_['cat'].named_steps['imputer']\n",
    "X_cat_imputed = cat_imputer.transform(X[cat_cols]) if cat_cols else np.empty((len(X),0))\n",
    "X_test_cat_imputed = cat_imputer.transform(X_test[cat_cols]) if cat_cols else np.empty((len(X_test),0))\n",
    "\n",
    "df_num = pd.DataFrame(X_num, columns=[f'num_{c}' for c in num_cols], index=X.index)\n",
    "df_test_num = pd.DataFrame(X_test_num, columns=[f'num_{c}' for c in num_cols], index=X_test.index)\n",
    "\n",
    "if cat_cols:\n",
    "    df_cat = pd.DataFrame(X_cat_imputed, columns=cat_cols, index=X.index)\n",
    "    df_test_cat = pd.DataFrame(X_test_cat_imputed, columns=cat_cols, index=X_test.index)\n",
    "\n",
    "    combined = pd.concat([df_cat, df_test_cat], axis=0)\n",
    "    for c in cat_cols:\n",
    "        combined[c] = combined[c].astype('category').cat.codes\n",
    "\n",
    "    df_cat_encoded = combined.iloc[:len(df_cat)].reset_index(drop=True)\n",
    "    df_test_cat_encoded = combined.iloc[len(df_cat):].reset_index(drop=True)\n",
    "else:\n",
    "    df_cat_encoded = pd.DataFrame(index=X.index)\n",
    "    df_test_cat_encoded = pd.DataFrame(index=X_test.index)\n",
    "\n",
    "X_processed = pd.concat([df_num.reset_index(drop=True), df_cat_encoded.reset_index(drop=True)], axis=1)\n",
    "X_test_processed = pd.concat([df_test_num.reset_index(drop=True), df_test_cat_encoded.reset_index(drop=True)], axis=1)\n",
    "\n",
    "print('\\nProcessed X shape:', X_processed.shape)\n",
    "print('Processed X_test shape:', X_test_processed.shape)\n"
   ],
   "metadata": {
    "colab": {
     "base_uri": "https://localhost:8080/"
    },
    "id": "-EamSlHczd5r",
    "outputId": "0af23c42-c68a-4c52-e02a-efbab64b15a4"
   },
   "outputs": [],
   "execution_count": null
  },
  {
   "cell_type": "code",
   "source": [
    "# %% [markdown]\n",
    "# Encode target labels\n"
   ],
   "metadata": {
    "id": "JZ0_QneSziLl"
   },
   "outputs": [],
   "execution_count": null
  },
  {
   "cell_type": "code",
   "source": [
    "# %%\n",
    "le = LabelEncoder()\n",
    "y_encoded = le.fit_transform(y)\n",
    "print('\\nClasses:', le.classes_)\n",
    "joblib.dump(le, 'models/label_encoder.joblib')\n"
   ],
   "metadata": {
    "colab": {
     "base_uri": "https://localhost:8080/"
    },
    "id": "irej87Y8zknm",
    "outputId": "de038fda-a68d-4f85-b8d8-ada5a09d6a92"
   },
   "outputs": [],
   "execution_count": null
  },
  {
   "cell_type": "code",
   "source": [
    "# %% [markdown]\n",
    "# ## 4) Train/validation split\n"
   ],
   "metadata": {
    "id": "nccIsomCzwm5"
   },
   "outputs": [],
   "execution_count": null
  },
  {
   "cell_type": "code",
   "source": [
    "X_train_hold, X_valid_hold, y_train_hold, y_valid_hold = train_test_split(\n",
    "    X_processed, y_encoded, test_size=0.2, random_state=RNG, stratify=y_encoded\n",
    ")\n",
    "print('Hold-out train:', X_train_hold.shape, 'Valid:', X_valid_hold.shape)\n"
   ],
   "metadata": {
    "colab": {
     "base_uri": "https://localhost:8080/"
    },
    "id": "6Xz4ImwHzmsP",
    "outputId": "534573ef-a20f-478d-ba84-940b76c6993c"
   },
   "outputs": [],
   "execution_count": null
  },
  {
   "cell_type": "code",
   "source": [
    "# %% [markdown]\n",
    "# ## 5) Evaluate model helper\n"
   ],
   "metadata": {
    "id": "02vrOEtqzqDD"
   },
   "outputs": [],
   "execution_count": null
  },
  {
   "cell_type": "code",
   "source": [
    "# %%\n",
    "def evaluate_model(model, X_val, y_val, model_name='Model'):\n",
    "    preds = model.predict(X_val)\n",
    "    acc = accuracy_score(y_val, preds)\n",
    "    print(f\"{model_name} Accuracy: {acc*100:.2f}%\")\n",
    "    print('\\nClassification report:')\n",
    "    print(classification_report(y_val, preds, target_names=le.classes_))\n",
    "    cm = confusion_matrix(y_val, preds)\n",
    "    disp = ConfusionMatrixDisplay(cm, display_labels=le.classes_)\n",
    "    fig, ax = plt.subplots(figsize=(6,5))\n",
    "    disp.plot(ax=ax, xticks_rotation='vertical')\n",
    "    plt.title(f'{model_name} Confusion Matrix')\n",
    "    plt.tight_layout()\n",
    "    plt.savefig(f'outputs/{model_name}_confusion_matrix.png')\n",
    "    plt.show()\n",
    "    return acc, cm\n"
   ],
   "metadata": {
    "id": "-JfxPlEazuFq"
   },
   "outputs": [],
   "execution_count": null
  },
  {
   "cell_type": "code",
   "source": [
    "# %% [markdown]\n",
    "# ## 6) Baseline models\n"
   ],
   "metadata": {
    "id": "Af4Vy4HVzvLZ"
   },
   "outputs": [],
   "execution_count": null
  },
  {
   "cell_type": "code",
   "source": [
    "# KNN\n",
    "knn = KNeighborsClassifier(n_neighbors=7)\n",
    "knn.fit(X_train_hold, y_train_hold)\n",
    "joblib.dump(knn, 'models/knn_base.joblib')\n",
    "knn_acc, knn_cm = evaluate_model(knn, X_valid_hold, y_valid_hold, 'KNN')\n",
    "\n",
    "# Decision Tree\n",
    "dt = DecisionTreeClassifier(random_state=RNG)\n",
    "dt.fit(X_train_hold, y_train_hold)\n",
    "joblib.dump(dt, 'models/decision_tree_base.joblib')\n",
    "dt_acc, dt_cm = evaluate_model(dt, X_valid_hold, y_valid_hold, 'DecisionTree')\n",
    "\n",
    "# Random Forest\n",
    "rf = RandomForestClassifier(n_estimators=200, random_state=RNG, n_jobs=-1)\n",
    "rf.fit(X_train_hold, y_train_hold)\n",
    "joblib.dump(rf, 'models/random_forest_base.joblib')\n",
    "rf_acc, rf_cm = evaluate_model(rf, X_valid_hold, y_valid_hold, 'RandomForest')\n",
    "\n",
    "# Save baseline results\n",
    "baseline_results = pd.DataFrame({\n",
    "    'model': ['KNN','DecisionTree','RandomForest'],\n",
    "    'accuracy': [knn_acc, dt_acc, rf_acc]\n",
    "})\n",
    "baseline_results.to_csv('outputs/baseline_results.csv', index=False)\n"
   ],
   "metadata": {
    "colab": {
     "base_uri": "https://localhost:8080/",
     "height": 1000
    },
    "id": "eYOmwLEwzzev",
    "outputId": "bbd0867d-643a-465a-b85c-22e7675f8066"
   },
   "outputs": [],
   "execution_count": null
  },
  {
   "cell_type": "code",
   "source": [
    "# %% [markdown]\n",
    "# ## 7) Cross-validated OOF predictions (optional)\n"
   ],
   "metadata": {
    "id": "5rdEUlpCz1OU"
   },
   "outputs": [],
   "execution_count": null
  },
  {
   "cell_type": "code",
   "source": [
    "# %%\n",
    "skf = StratifiedKFold(n_splits=5, shuffle=True, random_state=RNG)\n",
    "\n",
    "models = {\n",
    "    'KNN': KNeighborsClassifier(n_neighbors=7),\n",
    "    'DecisionTree': DecisionTreeClassifier(random_state=RNG),\n",
    "    'RandomForest': RandomForestClassifier(n_estimators=200, random_state=RNG, n_jobs=-1)\n",
    "}\n",
    "\n",
    "oof_results = []\n",
    "for name, model in models.items():\n",
    "    print('\\nRunning OOF for', name)\n",
    "    oof_preds = cross_val_predict(model, X_processed, y_encoded, cv=skf, method='predict', n_jobs=-1)\n",
    "    acc = accuracy_score(y_encoded, oof_preds)\n",
    "    print(f'{name} OOF Accuracy: {acc*100:.2f}%')\n",
    "    cm = confusion_matrix(y_encoded, oof_preds)\n",
    "    disp = ConfusionMatrixDisplay(cm, display_labels=le.classes_)\n",
    "    fig, ax = plt.subplots(figsize=(6,5))\n",
    "    disp.plot(ax=ax, xticks_rotation='vertical')\n",
    "    plt.title(f'{name} OOF Confusion Matrix')\n",
    "    plt.tight_layout()\n",
    "    plt.savefig(f'outputs/{name}_oof_cm.png')\n",
    "    plt.show()\n",
    "    oof_results.append({'model': name, 'oof_accuracy': acc})\n",
    "\n",
    "pd.DataFrame(oof_results).to_csv('outputs/oof_results.csv', index=False)\n"
   ],
   "metadata": {
    "colab": {
     "base_uri": "https://localhost:8080/",
     "height": 1000
    },
    "id": "X0TTRJIHz6_f",
    "outputId": "772bd718-d8e5-48e8-e1bf-2461d54095e8"
   },
   "outputs": [],
   "execution_count": null
  },
  {
   "cell_type": "code",
   "source": [
    "# %% [markdown]\n",
    "# ## 8) XGBoost ensemble with Optuna tuning\n"
   ],
   "metadata": {
    "id": "RHLSrdByz8Tl"
   },
   "outputs": [],
   "execution_count": null
  },
  {
   "cell_type": "code",
   "source": [
    "# %%\n",
    "X_for_xgb = X_processed.copy()\n",
    "X_test_for_xgb = X_test_processed.copy()\n"
   ],
   "metadata": {
    "id": "F1LNVqkl0HXE"
   },
   "outputs": [],
   "execution_count": null
  },
  {
   "cell_type": "code",
   "source": [
    "# %%\n",
    "def objective(trial):\n",
    "    params = {\n",
    "        'objective': 'multi:softprob',\n",
    "        'num_class': len(np.unique(y_encoded)),\n",
    "        'eval_metric': 'mlogloss',\n",
    "        'max_depth': trial.suggest_int('max_depth', 4, 10),\n",
    "        'learning_rate': trial.suggest_float('learning_rate', 0.01, 0.3, log=True),\n",
    "        'subsample': trial.suggest_float('subsample', 0.6, 1.0),\n",
    "        'colsample_bytree': trial.suggest_float('colsample_bytree', 0.6, 1.0),\n",
    "        'min_child_weight': trial.suggest_int('min_child_weight', 1, 10),\n",
    "        'gamma': trial.suggest_float('gamma', 0.0, 0.5),\n",
    "        'reg_alpha': trial.suggest_float('reg_alpha', 0.0, 1.0),\n",
    "        'reg_lambda': trial.suggest_float('reg_lambda', 0.5, 2.0),\n",
    "        'seed': RNG,\n",
    "        'verbosity': 0\n",
    "    }\n",
    "    cv_acc = []\n",
    "    for train_idx, val_idx in skf.split(X_for_xgb, y_encoded):\n",
    "        X_train, X_val = X_for_xgb.iloc[train_idx], X_for_xgb.iloc[val_idx]\n",
    "        y_train, y_val = y_encoded[train_idx], y_encoded[val_idx]\n",
    "        dtrain = xgb.DMatrix(X_train, label=y_train)\n",
    "        dval = xgb.DMatrix(X_val, label=y_val)\n",
    "        bst = xgb.train(\n",
    "            params=params,\n",
    "            dtrain=dtrain,\n",
    "            num_boost_round=400,\n",
    "            evals=[(dval, 'eval')],\n",
    "            early_stopping_rounds=50,\n",
    "            verbose_eval=False\n",
    "        )\n",
    "        preds = bst.predict(dval)\n",
    "        cv_acc.append(accuracy_score(y_val, preds.argmax(axis=1)))\n",
    "    return np.mean(cv_acc)\n",
    "\n",
    "study = optuna.create_study(direction='maximize')\n",
    "study.optimize(objective, n_trials=15, show_progress_bar=True)\n",
    "best_params = study.best_params\n",
    "best_params.update({'objective': 'multi:softprob','num_class': len(np.unique(y_encoded)),'eval_metric': 'mlogloss','verbosity':0})\n"
   ],
   "metadata": {
    "id": "R_BrB9nO0CqK",
    "colab": {
     "base_uri": "https://localhost:8080/",
     "height": 355,
     "referenced_widgets": [
      "54fe8b5afe1847cbb5a00d600fc42833",
      "1bf8bb65516d4b69a2defccfd63d059b",
      "943014792c894fae88fe61ef5e981257",
      "647b820dd61f43aa96d61c52bba418e3",
      "6ebb79ff6b4c4aeb9c99fe4471dd9203",
      "6fd5f801c6a5417a80eb9014d585f01a",
      "cfa5172da7a04a8088e66af710f6c25b",
      "abfcdb978c924405a7caeeedee6922cc",
      "d75c97986c7048ee93d74beed2d3123d",
      "f4eef28ca2bd45ddbc78c88249a8bacf",
      "750f94f2d17a4ad19aa534c8b2bbd717"
     ]
    },
    "outputId": "e9e72183-29b1-43bd-cf3e-94444ceb76a1"
   },
   "outputs": [],
   "execution_count": null
  },
  {
   "cell_type": "code",
   "source": [
    "# %%\n",
    "# Ensemble training\n",
    "ensemble_size = 5\n",
    "n_classes = len(np.unique(y_encoded))\n",
    "test_pred_prob = np.zeros((len(X_test_for_xgb), n_classes))\n",
    "oof_preds = np.zeros((len(X_for_xgb), n_classes))\n",
    "\n",
    "for model_num in range(ensemble_size):\n",
    "    print(f'\\nTraining XGBoost Model {model_num+1}/{ensemble_size}')\n",
    "    model_seed = RNG + model_num\n",
    "    best_params['seed'] = int(model_seed)\n",
    "\n",
    "    for fold, (train_idx, val_idx) in enumerate(skf.split(X_for_xgb, y_encoded)):\n",
    "        print(f' Fold {fold+1}')\n",
    "        X_train, X_val = X_for_xgb.iloc[train_idx], X_for_xgb.iloc[val_idx]\n",
    "        y_train, y_val = y_encoded[train_idx], y_encoded[val_idx]\n",
    "\n",
    "        dtrain = xgb.DMatrix(X_train, label=y_train)\n",
    "        dval = xgb.DMatrix(X_val, label=y_val)\n",
    "        dtest = xgb.DMatrix(X_test_for_xgb)\n",
    "\n",
    "        bst = xgb.train(\n",
    "            params=best_params,\n",
    "            dtrain=dtrain,\n",
    "            num_boost_round=1000,\n",
    "            evals=[(dtrain, 'train'), (dval, 'eval')],\n",
    "            early_stopping_rounds=100,\n",
    "            verbose_eval=100\n",
    "        )\n",
    "\n",
    "        best_iter = bst.best_iteration or 1000\n",
    "\n",
    "        oof_preds[val_idx] += bst.predict(dval, iteration_range=(0, best_iter)) / ensemble_size\n",
    "        test_pred_prob += bst.predict(dtest, iteration_range=(0, best_iter)) / (skf.n_splits * ensemble_size)\n",
    "\n",
    "oof_pred_labels = oof_preds.argmax(axis=1)\n",
    "cv_acc = accuracy_score(y_encoded, oof_pred_labels)\n",
    "print(f'Final OOF CV Accuracy (Ensemble): {cv_acc*100:.2f}%')\n",
    "\n",
    "pd.DataFrame(oof_preds, columns=le.classes_).to_csv('outputs/xgb_oof_probs.csv', index=False)\n",
    "pd.DataFrame(test_pred_prob, columns=le.classes_).to_csv('outputs/xgb_test_probs.csv', index=False)\n"
   ],
   "metadata": {
    "id": "TmqnF8rr0Ep6",
    "colab": {
     "base_uri": "https://localhost:8080/"
    },
    "outputId": "4200d4c2-cf6d-4901-ce79-02a1cca02b7a"
   },
   "outputs": [],
   "execution_count": null
  },
  {
   "cell_type": "code",
   "source": [
    "# %% [markdown]\n",
    "# ## 9) Create final submission\n"
   ],
   "metadata": {
    "id": "DgTdLyGu0RMe"
   },
   "outputs": [],
   "execution_count": null
  },
  {
   "cell_type": "code",
   "source": [
    "# %%\n",
    "if 'id' in test.columns:\n",
    "    submission = pd.DataFrame({'id': test['id'], TARGET: le.inverse_transform(test_pred_prob.argmax(axis=1))})\n",
    "    submission.to_csv('outputs/submission_ensemble.csv', index=False)\n",
    "    print('Submission saved to outputs/submission_ensemble.csv')\n",
    "else:\n",
    "    print('No id column in test; skipping submission save.')\n"
   ],
   "metadata": {
    "id": "XErxvUgz0TNs",
    "colab": {
     "base_uri": "https://localhost:8080/"
    },
    "outputId": "64fb2d86-10d9-4adb-b0e3-0d0dd408d51c"
   },
   "outputs": [],
   "execution_count": null
  },
  {
   "cell_type": "code",
   "source": [
    "# %% [markdown]\n",
    "# ## 10) Save summary results for report\n"
   ],
   "metadata": {
    "id": "Q0yO0LQR0Uyd"
   },
   "outputs": [],
   "execution_count": null
  },
  {
   "cell_type": "code",
   "source": [
    "# %%\n",
    "summary = {\n",
    "    'baseline': baseline_results,\n",
    "    'oof_results': pd.DataFrame(oof_results),\n",
    "    'xgb_oof_accuracy': cv_acc\n",
    "}\n",
    "\n",
    "with open('outputs/summary.txt', 'w') as f:\n",
    "    f.write('Baseline results:\\n')\n",
    "    f.write(baseline_results.to_string(index=False))\n",
    "    f.write('\\n\\nOOF results:\\n')\n",
    "    f.write(pd.DataFrame(oof_results).to_string(index=False))\n",
    "    f.write('\\n\\nXGBoost OOF accuracy: {:.4f}\\n'.format(cv_acc))\n",
    "\n",
    "print('Summary saved to outputs/summary.txt')\n"
   ],
   "metadata": {
    "id": "J9OyYuDE0WB9",
    "colab": {
     "base_uri": "https://localhost:8080/"
    },
    "outputId": "2620509d-d8cc-4cf8-f0cc-3efb7947a009"
   },
   "outputs": [],
   "execution_count": null
  },
  {
   "cell_type": "code",
   "source": [
    "# SUBMISSION.CSV\n",
    "\n",
    "# import pandas as pd\n",
    "# import numpy as np\n",
    "# import xgboost as xgb\n",
    "# import optuna\n",
    "# from sklearn.model_selection import StratifiedKFold\n",
    "# from sklearn.preprocessing import LabelEncoder\n",
    "# from sklearn.metrics import accuracy_score\n",
    "\n",
    "# # =============================\n",
    "# # 1) Load data\n",
    "# # =============================\n",
    "# train = pd.read_csv(\"train.csv\")\n",
    "# test = pd.read_csv(\"test.csv\")\n",
    "\n",
    "# target_col = \"WeightCategory\"\n",
    "# y = train[target_col]\n",
    "# X = train.drop(columns=[target_col])\n",
    "# test_ids = test[\"id\"]\n",
    "# X_test = test.copy()\n",
    "\n",
    "# # =============================\n",
    "# # 2) Encode features\n",
    "# # =============================\n",
    "# for df in [X, X_test]:\n",
    "#     # Convert boolean columns to integers\n",
    "#     bool_cols = df.select_dtypes(include=\"bool\").columns\n",
    "#     df[bool_cols] = df[bool_cols].astype(int)\n",
    "\n",
    "#     # Encode categorical columns\n",
    "#     cat_cols = df.select_dtypes(include=\"object\").columns\n",
    "#     for c in cat_cols:\n",
    "#         df[c] = df[c].astype(\"category\").cat.codes\n",
    "\n",
    "# # =============================\n",
    "# # 3) Encode target\n",
    "# # =============================\n",
    "# le = LabelEncoder()\n",
    "# y_encoded = le.fit_transform(y)\n",
    "\n",
    "# # =============================\n",
    "# # 4) Stratified K-Fold setup\n",
    "# # =============================\n",
    "# skf = StratifiedKFold(n_splits=5, shuffle=True, random_state=42)\n",
    "\n",
    "# # =============================\n",
    "# # 5) Optuna tuning\n",
    "# # =============================\n",
    "# def objective(trial):\n",
    "#     params = {\n",
    "#         \"objective\": \"multi:softprob\",\n",
    "#         \"num_class\": len(np.unique(y_encoded)),\n",
    "#         \"eval_metric\": \"mlogloss\",\n",
    "#         \"max_depth\": trial.suggest_int(\"max_depth\", 4, 10),\n",
    "#         \"learning_rate\": trial.suggest_float(\"learning_rate\", 0.01, 0.3, log=True),\n",
    "#         \"subsample\": trial.suggest_float(\"subsample\", 0.6, 1.0),\n",
    "#         \"colsample_bytree\": trial.suggest_float(\"colsample_bytree\", 0.6, 1.0),\n",
    "#         \"min_child_weight\": trial.suggest_int(\"min_child_weight\", 1, 10),\n",
    "#         \"gamma\": trial.suggest_float(\"gamma\", 0.0, 0.5),\n",
    "#         \"reg_alpha\": trial.suggest_float(\"reg_alpha\", 0.0, 1.0),\n",
    "#         \"reg_lambda\": trial.suggest_float(\"reg_lambda\", 0.5, 2.0),\n",
    "#         \"seed\": 42,\n",
    "#     }\n",
    "\n",
    "#     cv_acc = []\n",
    "#     for train_idx, val_idx in skf.split(X, y_encoded):\n",
    "#         X_train, X_val = X.iloc[train_idx], X.iloc[val_idx]\n",
    "#         y_train, y_val = y_encoded[train_idx], y_encoded[val_idx]\n",
    "\n",
    "#         dtrain = xgb.DMatrix(X_train, label=y_train)\n",
    "#         dval = xgb.DMatrix(X_val, label=y_val)\n",
    "\n",
    "#         bst = xgb.train(\n",
    "#             params=params,\n",
    "#             dtrain=dtrain,\n",
    "#             num_boost_round=400,\n",
    "#             evals=[(dval, \"eval\")],\n",
    "#             early_stopping_rounds=50,\n",
    "#             verbose_eval=False\n",
    "#         )\n",
    "\n",
    "#         preds = bst.predict(dval)\n",
    "#         cv_acc.append(accuracy_score(y_val, preds.argmax(axis=1)))\n",
    "\n",
    "#     return np.mean(cv_acc)\n",
    "\n",
    "# # =============================\n",
    "# # 6) Run Optuna tuning\n",
    "# # =============================\n",
    "# print(\"🔍 Running Optuna tuning (15 trials)...\")\n",
    "# study = optuna.create_study(direction=\"maximize\")\n",
    "# study.optimize(objective, n_trials=15, show_progress_bar=True)\n",
    "\n",
    "# best_params = study.best_params\n",
    "# best_params.update({\n",
    "#     \"objective\": \"multi:softprob\",\n",
    "#     \"num_class\": len(np.unique(y_encoded)),\n",
    "#     \"eval_metric\": \"mlogloss\"\n",
    "# })\n",
    "\n",
    "# print(\"\\n✅ Best params:\", best_params)\n",
    "\n",
    "# # =============================\n",
    "# # 7) Ensemble of XGBoosts\n",
    "# # =============================\n",
    "# ensemble_size = 5  # Number of XGBoost models in the ensemble\n",
    "\n",
    "# test_pred_prob = np.zeros((len(X_test), len(np.unique(y_encoded))))\n",
    "# oof_preds = np.zeros((len(X), len(np.unique(y_encoded))))\n",
    "\n",
    "# for model_num in range(ensemble_size):\n",
    "#     print(f\"\\n===== Training XGBoost Model {model_num + 1}/{ensemble_size} =====\")\n",
    "#     model_seed = 42 + model_num  # Different seed for each model\n",
    "#     best_params[\"seed\"] = model_seed\n",
    "\n",
    "#     for fold, (train_idx, val_idx) in enumerate(skf.split(X, y_encoded)):\n",
    "#         print(f\"--- Fold {fold + 1}/5 ---\")\n",
    "#         X_train, X_val = X.iloc[train_idx], X.iloc[val_idx]\n",
    "#         y_train, y_val = y_encoded[train_idx], y_encoded[val_idx]\n",
    "\n",
    "#         dtrain = xgb.DMatrix(X_train, label=y_train)\n",
    "#         dval = xgb.DMatrix(X_val, label=y_val)\n",
    "#         dtest = xgb.DMatrix(X_test)\n",
    "\n",
    "#         bst = xgb.train(\n",
    "#             params=best_params,\n",
    "#             dtrain=dtrain,\n",
    "#             num_boost_round=1000,\n",
    "#             evals=[(dtrain, \"train\"), (dval, \"eval\")],\n",
    "#             early_stopping_rounds=100,\n",
    "#             verbose_eval=100\n",
    "#         )\n",
    "\n",
    "#         best_iter = bst.best_iteration or 1000\n",
    "\n",
    "#         # Store OOF predictions\n",
    "#         oof_preds[val_idx] += bst.predict(dval, iteration_range=(0, best_iter)) / ensemble_size\n",
    "\n",
    "#         # Store test predictions\n",
    "#         test_pred_prob += bst.predict(dtest, iteration_range=(0, best_iter)) / (skf.n_splits * ensemble_size)\n",
    "\n",
    "# # =============================\n",
    "# # 8) Evaluate OOF Accuracy\n",
    "# # =============================\n",
    "# oof_pred_labels = oof_preds.argmax(axis=1)\n",
    "# cv_acc = accuracy_score(y_encoded, oof_pred_labels)\n",
    "# print(f\"\\n🏁 Final OOF CV Accuracy (Ensemble): {cv_acc * 100:.2f}%\")\n",
    "\n",
    "# # =============================\n",
    "# # 9) Save submission\n",
    "# # =============================\n",
    "# y_test_pred = test_pred_prob.argmax(axis=1)\n",
    "# y_test_labels = le.inverse_transform(y_test_pred)\n",
    "\n",
    "# submission = pd.DataFrame({\n",
    "#     \"id\": test_ids,\n",
    "#     \"WeightCategory\": y_test_labels\n",
    "# })\n",
    "# submission.to_csv(\"submission_ensemble.csv\", index=False)\n",
    "# print(\"\\n✅ submission_ensemble.csv saved successfully!\")\n"
   ],
   "metadata": {
    "id": "BoWRjQs70XZ3"
   },
   "outputs": [],
   "execution_count": null
  },
  {
   "cell_type": "code",
   "source": [
    "!zip -r output.zip /content/outputs"
   ],
   "metadata": {
    "colab": {
     "base_uri": "https://localhost:8080/"
    },
    "id": "gu7qBYfxAHn_",
    "outputId": "3854958c-d13f-4593-c89d-a5e6b3dbb6f0"
   },
   "outputs": [],
   "execution_count": null
  }
 ]
}
